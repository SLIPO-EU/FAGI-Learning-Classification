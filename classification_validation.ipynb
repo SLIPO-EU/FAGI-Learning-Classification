{
 "cells": [
  {
   "cell_type": "markdown",
   "metadata": {},
   "source": [
    "# Classification for POIs fusion validation action"
   ]
  },
  {
   "cell_type": "code",
   "execution_count": null,
   "metadata": {},
   "outputs": [],
   "source": [
    "# Library imports\n",
    "import pandas as pd\n",
    "import numpy as np\n",
    "import matplotlib.pyplot as plt\n",
    "from helpers import *\n",
    "from sklearn import svm \n",
    "from sklearn.model_selection import train_test_split, cross_validate, ShuffleSplit\n",
    "from sklearn.neural_network import MLPClassifier\n",
    "from sklearn.neighbors import KNeighborsClassifier\n",
    "from sklearn.gaussian_process import GaussianProcessClassifier\n",
    "from sklearn.gaussian_process.kernels import RBF\n",
    "from sklearn.tree import DecisionTreeClassifier\n",
    "from sklearn.ensemble import RandomForestClassifier, AdaBoostClassifier, ExtraTreesClassifier, GradientBoostingClassifier\n",
    "from sklearn.naive_bayes import GaussianNB\n",
    "from sklearn.discriminant_analysis import QuadraticDiscriminantAnalysis"
   ]
  },
  {
   "cell_type": "code",
   "execution_count": null,
   "metadata": {},
   "outputs": [],
   "source": [
    "# Read the data\n",
    "feat = pd.read_csv(\"features_export.csv\")\n",
    "X = transform(feat[feat.columns.values[range(40)]], False)\n",
    "y = X.pop(' acceptance')"
   ]
  },
  {
   "cell_type": "code",
   "execution_count": null,
   "metadata": {},
   "outputs": [],
   "source": [
    "# Classification process\n",
    "names = [\"Nearest Neighbors\", \"Linear SVM\", \"RBF SVM\", \"Gaussian Process\",\n",
    "         \"Decision Tree\", \"Random Forest\", \"Neural Net\", \"AdaBoost\",\n",
    "         \"Naive Bayes\", #\"QDA\", \n",
    "         \"DecisionTreeClassifier\",\"GradientBoostingClassifier\",\n",
    "         \"ExtraTreesClassifier\"]\n",
    "\n",
    "classifiers = [\n",
    "    KNeighborsClassifier(3),\n",
    "    svm.SVC(kernel=\"linear\", C=0.025),\n",
    "    svm.SVC(gamma=2, C=1),\n",
    "    GaussianProcessClassifier(1.0 * RBF(1.0)),\n",
    "    DecisionTreeClassifier(max_depth=5),\n",
    "    RandomForestClassifier(max_depth=5, n_estimators=10, max_features=1),\n",
    "    MLPClassifier(alpha=1,max_iter=1000),\n",
    "    AdaBoostClassifier(),\n",
    "    GaussianNB(),\n",
    "    #QuadraticDiscriminantAnalysis(),\n",
    "    DecisionTreeClassifier(max_depth=None, min_samples_split=2, random_state=0),\n",
    "    GradientBoostingClassifier(n_estimators=100, learning_rate=1.0, max_depth=1, random_state=0),\n",
    "    ExtraTreesClassifier(n_estimators=28, max_depth=None, min_samples_split=11, random_state=0),\n",
    "    ]\n",
    "\n",
    "scr={}\n",
    "inf={}\n",
    "df3= pd.DataFrame()\n",
    "error=pd.DataFrame()\n",
    "cv = ShuffleSplit(n_splits=5, test_size=0.2, random_state=0)\n",
    "for name, clf in zip(names, classifiers):\n",
    "    scoring=['accuracy','precision','f1', 'recall']\n",
    "    scores = cross_validate(clf, X, y, cv=cv, scoring=scoring, return_train_score=True) # this function does cross validation\n",
    "    inf[name]= clf.get_params()\n",
    "    scr[name]={'test_score':scores.get('test_accuracy'),\n",
    "               'train_score':scores.get('train_accuracy')}\n",
    "    df3[name] = [scores.get('test_accuracy').mean(),  scores.get('train_accuracy').mean() ]\n",
    "    error[name]  = [scores.get('test_accuracy').std() * 2, scores.get('train_accuracy').std() * 2]\n",
    "    print(name, \":\" ,\"Test Accuracy: \\033[91m %0.2f  (+/- %0.2f)\\033[0m, Train Accuracy: %0.2f (+/- %0.2f)\" % (scores.get('test_accuracy').mean(), scores.get('test_accuracy').std() * 2,\n",
    "                                                                                              scores.get('train_accuracy').mean(), scores.get('train_accuracy').std() * 2)) # print the average and variance of cv\n",
    "\n",
    "    print(name, \":\" ,\"f1: %0.2f (+/- %0.2f), Precision: %0.2f (+/- %0.2f), recall: %0.2f (+/- %0.2f)\" % (scores.get('test_f1').mean(), scores.get('test_f1').std() * 2,\n",
    "                                                                                                        scores.get('test_precision').mean(), scores.get('test_precision').std() * 2,\n",
    "                                                                                                        scores.get('test_recall').mean(), scores.get('test_recall').std() * 2)) "
   ]
  },
  {
   "cell_type": "code",
   "execution_count": null,
   "metadata": {},
   "outputs": [],
   "source": [
    "fig, ax = plt.subplots()\n",
    "ax.set_ylabel('Scores')\n",
    "ax.set_xticklabels(names)\n",
    "\n",
    "ax = df3.rename(index={0:'test',1: 'train'}).T.plot.bar( yerr=error.rename(index={0:'test',1: 'train'}).T, ax=ax, tick_label= names)\n",
    "fig.set_size_inches(18.5, 10.5)\n",
    "fig.savefig('test2png.png', dpi=100)"
   ]
  },
  {
   "cell_type": "code",
   "execution_count": null,
   "metadata": {},
   "outputs": [],
   "source": [
    "from sklearn.model_selection import GridSearchCV\n",
    "from sklearn.metrics import make_scorer\n",
    "from sklearn.metrics import accuracy_score\n",
    "scoring = {'AUC': 'roc_auc', 'Accuracy': make_scorer(accuracy_score)}\n",
    "gs = GridSearchCV(ExtraTreesClassifier( random_state=0),\n",
    "                  param_grid={'n_estimators': range(15,30), 'min_samples_split': range(2, 35)},\n",
    "                 scoring=scoring, cv=5, refit='AUC',n_jobs=4)\n",
    "gs.fit(X, y)\n",
    "results = gs.cv_results_"
   ]
  },
  {
   "cell_type": "code",
   "execution_count": null,
   "metadata": {},
   "outputs": [],
   "source": [
    "gs.best_params_"
   ]
  }
 ],
 "metadata": {
  "kernelspec": {
   "display_name": "Python 3",
   "language": "python",
   "name": "python3"
  },
  "language_info": {
   "codemirror_mode": {
    "name": "ipython",
    "version": 3
   },
   "file_extension": ".py",
   "mimetype": "text/x-python",
   "name": "python",
   "nbconvert_exporter": "python",
   "pygments_lexer": "ipython3",
   "version": "3.5.2"
  }
 },
 "nbformat": 4,
 "nbformat_minor": 2
}
